{
 "cells": [
  {
   "cell_type": "code",
   "execution_count": 1,
   "metadata": {},
   "outputs": [],
   "source": [
    "from __future__ import print_function, division\n",
    "import os\n",
    "import torch\n",
    "from skimage import io, transform\n",
    "import numpy as np\n",
    "import matplotlib.pyplot as plt\n",
    "from torch.utils.data import Dataset, DataLoader\n",
    "from torchvision import transforms, utils\n",
    "from tqdm import tqdm\n",
    "import torch.nn as nn\n",
    "import torch.nn.functional as F"
   ]
  },
  {
   "cell_type": "code",
   "execution_count": 2,
   "metadata": {},
   "outputs": [],
   "source": [
    "#The Path to the Directory where the Dataset is saved\n",
    "_trainDir = \"Datasets/Tiny-ImageNet/train/\"\n",
    "_valDir = \"Datasets/Tiny-ImageNet/val/\""
   ]
  },
  {
   "cell_type": "code",
   "execution_count": 10,
   "metadata": {},
   "outputs": [],
   "source": [
    "#Using the Dataset Builder from Pytorch\n",
    "class TinyImageNet(Dataset):\n",
    "    train_x = []\n",
    "    train_y = []\n",
    "    classes = {}\n",
    "    \n",
    "    def __init__(self, path, transform=True):\n",
    "        # Open and load text file including the whole training data\n",
    "        self.transform = transform\n",
    "        for x,y in tqdm(enumerate(os.listdir(path))):\n",
    "            print (x,y)\n",
    "            if \"DS_Store\" in y:\n",
    "                continue\n",
    "            self.classes[x] = y\n",
    "            curr_path = os.path.join(os.path.join(path,y),\"images\")\n",
    "            for q,w in tqdm(enumerate(os.listdir(curr_path))):\n",
    "                self.train_x.append(os.path.join(curr_path,w))\n",
    "                self.train_y.append(np.float32(x))\n",
    "        \n",
    "    def __len__(self):\n",
    "        return len(self.train_x)\n",
    "\n",
    "    def __getitem__(self, index):\n",
    "        img = io.imread(self.train_x[index])\n",
    "        # Convert image and label to torch tensors\n",
    "        img = torch.from_numpy(np.asarray(img))\n",
    "        label = torch.from_numpy(np.asarray(self.train_y[index]).reshape([1,1]))\n",
    "        return img, label"
   ]
  },
  {
   "cell_type": "code",
   "execution_count": 11,
   "metadata": {},
   "outputs": [
    {
     "name": "stderr",
     "output_type": "stream",
     "text": [
      "0it [00:00, ?it/s]\n",
      "0it [00:00, ?it/s]\u001b[A\n",
      "500it [00:00, 134303.68it/s]\u001b[A\n",
      "0it [00:00, ?it/s]\u001b[A\n",
      "500it [00:00, 94949.61it/s]\u001b[A\n",
      "0it [00:00, ?it/s]\u001b[A\n",
      "500it [00:00, 102565.27it/s]\u001b[A\n",
      "0it [00:00, ?it/s]\u001b[A\n",
      "500it [00:00, 64062.56it/s]\u001b[A\n",
      "0it [00:00, ?it/s]\u001b[A\n",
      "500it [00:00, 136284.90it/s]\u001b[A\n",
      "0it [00:00, ?it/s]\u001b[A\n",
      "6it [00:00, 58.66it/s]8it/s]\u001b[A\n",
      "0it [00:00, ?it/s]\u001b[A\n",
      "500it [00:00, 39793.40it/s]\u001b[A\n",
      "0it [00:00, ?it/s]\u001b[A\n",
      "500it [00:00, 51895.57it/s]\u001b[A\n",
      "0it [00:00, ?it/s]\u001b[A\n",
      "500it [00:00, 66559.35it/s]\u001b[A"
     ]
    },
    {
     "name": "stdout",
     "output_type": "stream",
     "text": [
      "0 n02795169\n",
      "1 n02769748\n",
      "2 n07920052\n",
      "3 n02917067\n",
      "4 n01629819\n",
      "5 n02058221\n",
      "6 n02793495\n",
      "7 n04251144\n",
      "8 n02814533\n"
     ]
    },
    {
     "name": "stderr",
     "output_type": "stream",
     "text": [
      "9it [00:00, 44.18it/s]\n",
      "0it [00:00, ?it/s]\u001b[A\n",
      "500it [00:00, 125630.62it/s]\u001b[A\n",
      "0it [00:00, ?it/s]\u001b[A\n",
      "500it [00:00, 112255.22it/s]\u001b[A\n",
      "0it [00:00, ?it/s]\u001b[A\n",
      "500it [00:00, 109821.53it/s]\u001b[A\n",
      "0it [00:00, ?it/s]\u001b[A\n",
      "500it [00:00, 130924.71it/s]\u001b[A\n",
      "0it [00:00, ?it/s]\u001b[A\n",
      "14it [00:00, 44.98it/s]t/s]\u001b[A\n",
      "0it [00:00, ?it/s]\u001b[A\n",
      "500it [00:00, 153502.56it/s]\u001b[A\n",
      "0it [00:00, ?it/s]\u001b[A\n",
      "500it [00:00, 111260.65it/s]\u001b[A\n",
      "0it [00:00, ?it/s]\u001b[A\n",
      "500it [00:00, 61280.81it/s]\u001b[A\n",
      "0it [00:00, ?it/s]\u001b[A\n",
      "500it [00:00, 76555.16it/s]\u001b[A\n",
      "0it [00:00, ?it/s]\u001b[A"
     ]
    },
    {
     "name": "stdout",
     "output_type": "stream",
     "text": [
      "9 n02837789\n",
      "10 n01770393\n",
      "11 n01910747\n",
      "12 n03649909\n",
      "13 n02124075\n",
      "14 n01774750\n",
      "15 n06596364\n",
      "16 n03838899\n",
      "17 n02480495\n",
      "18 n09256479\n"
     ]
    },
    {
     "name": "stderr",
     "output_type": "stream",
     "text": [
      "\n",
      "19it [00:00, 44.40it/s]t/s]\u001b[A\n",
      "0it [00:00, ?it/s]\u001b[A\n",
      "500it [00:00, 106719.86it/s]\u001b[A\n",
      "0it [00:00, ?it/s]\u001b[A\n",
      "500it [00:00, 70305.81it/s]\u001b[A\n",
      "0it [00:00, ?it/s]\u001b[A\n",
      "500it [00:00, 210959.86it/s]\u001b[A\n",
      "0it [00:00, ?it/s]\u001b[A\n",
      "500it [00:00, 78813.63it/s]\u001b[A\n",
      "0it [00:00, ?it/s]\u001b[A\n",
      "24it [00:00, 45.31it/s]it/s]\u001b[A\n",
      "0it [00:00, ?it/s]\u001b[A\n",
      "500it [00:00, 131236.05it/s]\u001b[A\n",
      "0it [00:00, ?it/s]\u001b[A\n",
      "500it [00:00, 61934.14it/s]\u001b[A\n",
      "0it [00:00, ?it/s]\u001b[A\n",
      "500it [00:00, 79467.68it/s]\u001b[A\n",
      "0it [00:00, ?it/s]\u001b[A\n",
      "500it [00:00, 59473.43it/s]\u001b[A\n",
      "0it [00:00, ?it/s]\u001b[A\n",
      "500it [00:00, 65737.32it/s]\u001b[A"
     ]
    },
    {
     "name": "stdout",
     "output_type": "stream",
     "text": [
      "19 n03085013\n",
      "20 n01443537\n",
      "21 n04376876\n",
      "22 n03404251\n",
      "23 n03930313\n",
      "24 n03089624\n",
      "25 n04371430\n",
      "26 n04254777\n",
      "27 n02909870\n",
      "28 n07614500\n"
     ]
    },
    {
     "name": "stderr",
     "output_type": "stream",
     "text": [
      "29it [00:00, 45.59it/s]\n",
      "0it [00:00, ?it/s]\u001b[A\n",
      "500it [00:00, 136648.99it/s]\u001b[A\n",
      "0it [00:00, ?it/s]\u001b[A\n",
      "500it [00:00, 68313.37it/s]\u001b[A\n",
      "0it [00:00, ?it/s]\u001b[A\n",
      "500it [00:00, 44377.59it/s]\u001b[A\n",
      "0it [00:00, ?it/s]\u001b[A\n",
      "500it [00:00, 99184.26it/s]\u001b[A\n",
      "0it [00:00, ?it/s]\u001b[A\n",
      "35it [00:00, 46.57it/s]it/s]\u001b[A\n",
      "0it [00:00, ?it/s]\u001b[A\n",
      "500it [00:00, 164974.20it/s]\u001b[A\n",
      "0it [00:00, ?it/s]\u001b[A\n",
      "500it [00:00, 67606.45it/s]\u001b[A\n",
      "0it [00:00, ?it/s]\u001b[A\n",
      "500it [00:00, 87813.08it/s]\u001b[A\n",
      "0it [00:00, ?it/s]\u001b[A\n",
      "500it [00:00, 141431.89it/s]\u001b[A"
     ]
    },
    {
     "name": "stdout",
     "output_type": "stream",
     "text": [
      "29 n02977058\n",
      "30 n04259630\n",
      "31 n07579787\n",
      "32 n02950826\n",
      "33 .DS_Store\n",
      "34 n02279972\n",
      "35 n03424325\n",
      "36 n03854065\n",
      "37 n02403003\n",
      "38 n01742172\n"
     ]
    },
    {
     "name": "stderr",
     "output_type": "stream",
     "text": [
      "\n",
      "0it [00:00, ?it/s]\u001b[A\n",
      "40it [00:00, 46.34it/s]it/s]\u001b[A\n",
      "0it [00:00, ?it/s]\u001b[A\n",
      "500it [00:00, 81709.34it/s]\u001b[A\n",
      "0it [00:00, ?it/s]\u001b[A\n",
      "500it [00:00, 76934.30it/s]\u001b[A\n",
      "0it [00:00, ?it/s]\u001b[A\n",
      "500it [00:00, 32181.20it/s]\u001b[A\n",
      "0it [00:00, ?it/s]\u001b[A\n",
      "500it [00:00, 79051.30it/s]\u001b[A\n",
      "0it [00:00, ?it/s]\u001b[A\n",
      "45it [00:00, 45.62it/s]it/s]\u001b[A\n",
      "0it [00:00, ?it/s]\u001b[A\n",
      "500it [00:00, 63346.58it/s]\u001b[A\n",
      "0it [00:00, ?it/s]\u001b[A\n",
      "500it [00:00, 86341.64it/s]\u001b[A\n",
      "0it [00:00, ?it/s]\u001b[A\n",
      "500it [00:00, 93752.60it/s]\u001b[A\n"
     ]
    },
    {
     "name": "stdout",
     "output_type": "stream",
     "text": [
      "39 n01882714\n",
      "40 n03977966\n",
      "41 n02669723\n",
      "42 n02226429\n",
      "43 n04366367\n",
      "44 n02002724\n",
      "45 n03891332\n",
      "46 n01768244\n",
      "47 n02509815\n",
      "48 n03544143\n"
     ]
    },
    {
     "name": "stderr",
     "output_type": "stream",
     "text": [
      "0it [00:00, ?it/s]\u001b[A\n",
      "500it [00:00, 59311.95it/s]\u001b[A\n",
      "0it [00:00, ?it/s]\u001b[A\n",
      "50it [00:01, 45.79it/s]t/s]\u001b[A\n",
      "0it [00:00, ?it/s]\u001b[A\n",
      "500it [00:00, 167772.16it/s]\u001b[A\n",
      "0it [00:00, ?it/s]\u001b[A\n",
      "500it [00:00, 84959.97it/s]\u001b[A\n",
      "0it [00:00, ?it/s]\u001b[A\n",
      "500it [00:00, 63298.78it/s]\u001b[A\n",
      "0it [00:00, ?it/s]\u001b[A\n",
      "500it [00:00, 185687.27it/s]\u001b[A\n",
      "0it [00:00, ?it/s]\u001b[A\n",
      "55it [00:01, 44.75it/s]t/s]\u001b[A\n",
      "0it [00:00, ?it/s]\u001b[A\n",
      "500it [00:00, 67560.71it/s]\u001b[A\n",
      "0it [00:00, ?it/s]\u001b[A\n",
      "500it [00:00, 80905.52it/s]"
     ]
    },
    {
     "name": "stdout",
     "output_type": "stream",
     "text": [
      "49 n02321529\n",
      "50 n02099601\n",
      "51 n02948072\n",
      "52 n04456115\n",
      "53 n02236044\n",
      "54 n03126707\n",
      "55 n02074367\n",
      "56 n03255030\n"
     ]
    },
    {
     "name": "stderr",
     "output_type": "stream",
     "text": [
      "\u001b[A\n",
      "0it [00:00, ?it/s]\u001b[A\n",
      "500it [00:00, 71992.86it/s]\u001b[A\n",
      "0it [00:00, ?it/s]\u001b[A\n",
      "500it [00:00, 106997.55it/s]\u001b[A\n",
      "0it [00:00, ?it/s]\u001b[A\n",
      "60it [00:01, 44.62it/s]it/s]\u001b[A\n",
      "0it [00:00, ?it/s]\u001b[A\n",
      "500it [00:00, 80591.50it/s]\u001b[A\n",
      "0it [00:00, ?it/s]\u001b[A\n",
      "500it [00:00, 74459.51it/s]\u001b[A\n",
      "0it [00:00, ?it/s]\u001b[A\n",
      "500it [00:00, 88903.81it/s]\u001b[A\n",
      "0it [00:00, ?it/s]\u001b[A\n",
      "500it [00:00, 89591.25it/s]\u001b[A\n",
      "0it [00:00, ?it/s]\u001b[A\n",
      "65it [00:01, 44.24it/s]t/s]\u001b[A"
     ]
    },
    {
     "name": "stdout",
     "output_type": "stream",
     "text": [
      "57 n01950731\n",
      "58 n02268443\n",
      "59 n04501370\n",
      "60 n03970156\n",
      "61 n04099969\n",
      "62 n04023962\n",
      "63 n02085620\n",
      "64 n02823428\n",
      "65 n04265275\n"
     ]
    },
    {
     "name": "stderr",
     "output_type": "stream",
     "text": [
      "\n",
      "0it [00:00, ?it/s]\u001b[A\n",
      "500it [00:00, 79230.50it/s]\u001b[A\n",
      "0it [00:00, ?it/s]\u001b[A\n",
      "500it [00:00, 48425.24it/s]\u001b[A\n",
      "0it [00:00, ?it/s]\u001b[A\n",
      "500it [00:00, 76594.30it/s]\u001b[A\n",
      "0it [00:00, ?it/s]\u001b[A\n",
      "500it [00:00, 87000.71it/s]\u001b[A\n",
      "0it [00:00, ?it/s]\u001b[A\n",
      "70it [00:01, 43.55it/s]t/s]\u001b[A\n",
      "0it [00:00, ?it/s]\u001b[A\n",
      "500it [00:00, 84474.02it/s]\u001b[A\n",
      "0it [00:00, ?it/s]\u001b[A\n",
      "500it [00:00, 56281.25it/s]\u001b[A\n",
      "0it [00:00, ?it/s]\u001b[A\n",
      "500it [00:00, 100241.48it/s]\u001b[A\n",
      "0it [00:00, ?it/s]\u001b[A\n"
     ]
    },
    {
     "name": "stdout",
     "output_type": "stream",
     "text": [
      "66 n02113799\n",
      "67 n01784675\n",
      "68 n03706229\n",
      "69 n03100240\n",
      "70 n04532106\n",
      "71 n02788148\n",
      "72 n07753592\n",
      "73 n03983396\n"
     ]
    },
    {
     "name": "stderr",
     "output_type": "stream",
     "text": [
      "500it [00:00, 50632.61it/s]\u001b[A\n",
      "0it [00:00, ?it/s]\u001b[A\n",
      "75it [00:01, 43.42it/s]t/s]\u001b[A\n",
      "0it [00:00, ?it/s]\u001b[A\n",
      "500it [00:00, 127773.84it/s]\u001b[A\n",
      "0it [00:00, ?it/s]\u001b[A\n",
      "500it [00:00, 218909.39it/s]\u001b[A\n",
      "0it [00:00, ?it/s]\u001b[A\n",
      "500it [00:00, 122069.38it/s]\u001b[A\n",
      "0it [00:00, ?it/s]\u001b[A\n",
      "500it [00:00, 131755.48it/s]\u001b[A\n",
      "0it [00:00, ?it/s]\u001b[A\n",
      "500it [00:00, 96656.31it/s]\u001b[A\n",
      "0it [00:00, ?it/s]\u001b[A\n",
      "81it [00:01, 44.16it/s]it/s]\u001b[A\n",
      "0it [00:00, ?it/s]\u001b[A\n",
      "500it [00:00, 77819.29it/s]\u001b[A\n",
      "0it [00:00, ?it/s]\u001b[A\n",
      "500it [00:00, 118852.48it/s]\u001b[A\n",
      "0it [00:00, ?it/s]\u001b[A\n",
      "500it [00:00, 65070.34it/s]\u001b[A"
     ]
    },
    {
     "name": "stdout",
     "output_type": "stream",
     "text": [
      "74 n04399382\n",
      "75 n03902125\n",
      "76 n02814860\n",
      "77 n03014705\n",
      "78 n09428293\n",
      "79 n02481823\n",
      "80 n04597913\n",
      "81 n01944390\n",
      "82 n03355925\n",
      "83 n07871810\n",
      "84 n03042490\n"
     ]
    },
    {
     "name": "stderr",
     "output_type": "stream",
     "text": [
      "\n",
      "0it [00:00, ?it/s]\u001b[A\n",
      "500it [00:00, 115316.84it/s]\u001b[A\n",
      "0it [00:00, ?it/s]\u001b[A\n",
      "86it [00:01, 44.11it/s]t/s]\u001b[A\n",
      "0it [00:00, ?it/s]\u001b[A\n",
      "500it [00:00, 51943.13it/s]\u001b[A\n",
      "0it [00:00, ?it/s]\u001b[A\n",
      "500it [00:00, 99603.51it/s]\u001b[A\n",
      "0it [00:00, ?it/s]\u001b[A\n",
      "500it [00:00, 60709.59it/s]\u001b[A\n",
      "0it [00:00, ?it/s]\u001b[A\n",
      "500it [00:00, 78654.01it/s]\u001b[A\n",
      "0it [00:00, ?it/s]\u001b[A\n",
      "91it [00:02, 43.99it/s]t/s]\u001b[A\n",
      "0it [00:00, ?it/s]\u001b[A\n",
      "500it [00:00, 110324.16it/s]\u001b[A\n",
      "0it [00:00, ?it/s]\u001b[A\n",
      "500it [00:00, 96314.50it/s]\u001b[A\n"
     ]
    },
    {
     "name": "stdout",
     "output_type": "stream",
     "text": [
      "85 n02190166\n",
      "86 n04486054\n",
      "87 n04008634\n",
      "88 n02906734\n",
      "89 n02699494\n",
      "90 n04070727\n",
      "91 n01855672\n",
      "92 n09246464\n",
      "93 n02364673\n"
     ]
    },
    {
     "name": "stderr",
     "output_type": "stream",
     "text": [
      "0it [00:00, ?it/s]\u001b[A\n",
      "500it [00:00, 146295.92it/s]\u001b[A\n",
      "0it [00:00, ?it/s]\u001b[A\n",
      "500it [00:00, 62298.43it/s]\u001b[A\n",
      "0it [00:00, ?it/s]\u001b[A\n",
      "96it [00:02, 43.73it/s]it/s]\u001b[A\n",
      "0it [00:00, ?it/s]\u001b[A\n",
      "500it [00:00, 96616.24it/s]\u001b[A\n",
      "0it [00:00, ?it/s]\u001b[A\n",
      "500it [00:00, 78319.15it/s]\u001b[A\n",
      "0it [00:00, ?it/s]\u001b[A\n",
      "500it [00:00, 117784.44it/s]\u001b[A\n",
      "0it [00:00, ?it/s]\u001b[A\n",
      "500it [00:00, 97234.42it/s]\u001b[A\n",
      "0it [00:00, ?it/s]\u001b[A\n",
      "101it [00:02, 43.95it/s]/s]\u001b[A\n",
      "0it [00:00, ?it/s]\u001b[A\n",
      "500it [00:00, 100419.08it/s]\u001b[A\n",
      "0it [00:00, ?it/s]\u001b[A\n",
      "500it [00:00, 100059.74it/s]\u001b[A\n",
      "0it [00:00, ?it/s]"
     ]
    },
    {
     "name": "stdout",
     "output_type": "stream",
     "text": [
      "94 n07768694\n",
      "95 n02883205\n",
      "96 n04532670\n",
      "97 n02815834\n",
      "98 n02165456\n",
      "99 n04540053\n",
      "100 n02802426\n",
      "101 n04356056\n",
      "102 n03670208\n",
      "103 n04562935\n"
     ]
    },
    {
     "name": "stderr",
     "output_type": "stream",
     "text": [
      "\u001b[A\n",
      "500it [00:00, 104868.09it/s]\u001b[A\n",
      "0it [00:00, ?it/s]\u001b[A\n",
      "500it [00:00, 74295.96it/s]\u001b[A\n",
      "0it [00:00, ?it/s]\u001b[A\n",
      "500it [00:00, 103757.77it/s]\u001b[A\n",
      "0it [00:00, ?it/s]\u001b[A\n",
      "107it [00:02, 44.39it/s]t/s]\u001b[A\n",
      "0it [00:00, ?it/s]\u001b[A\n",
      "500it [00:00, 111836.18it/s]\u001b[A\n",
      "0it [00:00, ?it/s]\u001b[A\n",
      "500it [00:00, 72528.17it/s]\u001b[A\n",
      "0it [00:00, ?it/s]\u001b[A\n",
      "500it [00:00, 104185.60it/s]\u001b[A\n",
      "0it [00:00, ?it/s]\u001b[A\n",
      "500it [00:00, 71234.78it/s]\u001b[A\n",
      "0it [00:00, ?it/s]\u001b[A\n",
      "112it [00:02, 44.44it/s]/s]\u001b[A\n",
      "0it [00:00, ?it/s]\u001b[A\n",
      "500it [00:00, 88979.25it/s]\u001b[A\n"
     ]
    },
    {
     "name": "stdout",
     "output_type": "stream",
     "text": [
      "104 n01641577\n",
      "105 n07615774\n",
      "106 n07734744\n",
      "107 n03584254\n",
      "108 n01698640\n",
      "109 n04507155\n",
      "110 n02125311\n",
      "111 n03179701\n",
      "112 n07873807\n",
      "113 n04179913\n"
     ]
    },
    {
     "name": "stderr",
     "output_type": "stream",
     "text": [
      "0it [00:00, ?it/s]\u001b[A\n",
      "500it [00:00, 100222.32it/s]\u001b[A\n",
      "0it [00:00, ?it/s]\u001b[A\n",
      "500it [00:00, 55121.48it/s]\u001b[A\n",
      "0it [00:00, ?it/s]\u001b[A\n",
      "500it [00:00, 56231.45it/s]\u001b[A\n",
      "0it [00:00, ?it/s]\u001b[A\n",
      "117it [00:02, 44.48it/s]t/s]\u001b[A\n",
      "0it [00:00, ?it/s]\u001b[A\n",
      "500it [00:00, 166045.29it/s]\u001b[A\n",
      "0it [00:00, ?it/s]\u001b[A\n",
      "500it [00:00, 152809.09it/s]\u001b[A\n",
      "0it [00:00, ?it/s]\u001b[A\n",
      "500it [00:00, 123303.86it/s]\u001b[A\n",
      "0it [00:00, ?it/s]\u001b[A\n",
      "500it [00:00, 65505.29it/s]\u001b[A\n",
      "0it [00:00, ?it/s]\u001b[A\n",
      "500it [00:00, 136240.63it/s]\u001b[A\n",
      "0it [00:00, ?it/s]\u001b[A\n",
      "123it [00:02, 45.05it/s]/s]\u001b[A\n",
      "0it [00:00, ?it/s]\u001b[A\n",
      "500it [00:00, 74914.34it/s]\u001b[A\n",
      "0it [00:00, ?it/s]\u001b[A\n",
      "500it [00:00, 57065.36it/s]"
     ]
    },
    {
     "name": "stdout",
     "output_type": "stream",
     "text": [
      "114 n04560804\n",
      "115 n03393912\n",
      "116 n02841315\n",
      "117 n02843684\n",
      "118 n09193705\n",
      "119 n02437312\n",
      "120 n04275548\n",
      "121 n04118538\n",
      "122 n02099712\n",
      "123 n07747607\n",
      "124 n03250847\n"
     ]
    },
    {
     "name": "stderr",
     "output_type": "stream",
     "text": [
      "\u001b[A\n",
      "0it [00:00, ?it/s]\u001b[A\n",
      "500it [00:00, 91442.92it/s]\u001b[A\n",
      "0it [00:00, ?it/s]\u001b[A\n",
      "500it [00:00, 84007.05it/s]\u001b[A\n",
      "0it [00:00, ?it/s]\u001b[A\n",
      "500it [00:00, 166335.03it/s]\u001b[A\n",
      "0it [00:00, ?it/s]\u001b[A\n",
      "129it [00:02, 45.35it/s]/s]\u001b[A\n",
      "0it [00:00, ?it/s]\u001b[A\n",
      "500it [00:00, 99376.96it/s]\u001b[A\n",
      "0it [00:00, ?it/s]\u001b[A\n",
      "500it [00:00, 78298.69it/s]\u001b[A\n",
      "0it [00:00, ?it/s]\u001b[A\n",
      "500it [00:00, 100722.92it/s]\u001b[A\n",
      "0it [00:00, ?it/s]\u001b[A\n",
      "500it [00:00, 55959.87it/s]\u001b[A\n",
      "0it [00:00, ?it/s]\u001b[A\n",
      "500it [00:00, 118262.67it/s]\u001b[A\n",
      "0it [00:00, ?it/s]\u001b[A\n",
      "135it [00:02, 45.77it/s]t/s]\u001b[A\n",
      "0it [00:00, ?it/s]\u001b[A\n",
      "500it [00:00, 121327.86it/s]\u001b[A\n",
      "0it [00:00, ?it/s]"
     ]
    },
    {
     "name": "stdout",
     "output_type": "stream",
     "text": [
      "125 n04133789\n",
      "126 n02094433\n",
      "127 n04074963\n",
      "128 n02129165\n",
      "129 n03637318\n",
      "130 n02056570\n",
      "131 n02410509\n",
      "132 n03980874\n",
      "133 n03400231\n",
      "134 n03814639\n",
      "135 n03026506\n",
      "136 n01644900\n"
     ]
    },
    {
     "name": "stderr",
     "output_type": "stream",
     "text": [
      "\u001b[A\n",
      "500it [00:00, 66888.40it/s]\u001b[A\n",
      "0it [00:00, ?it/s]\u001b[A\n",
      "500it [00:00, 106568.02it/s]\u001b[A\n",
      "0it [00:00, ?it/s]\u001b[A\n",
      "500it [00:00, 95983.89it/s]\u001b[A\n",
      "0it [00:00, ?it/s]\u001b[A\n",
      "500it [00:00, 87702.91it/s]\u001b[A\n",
      "0it [00:00, ?it/s]\u001b[A\n",
      "141it [00:03, 45.90it/s]/s]\u001b[A\n",
      "0it [00:00, ?it/s]\u001b[A\n",
      "500it [00:00, 107524.20it/s]\u001b[A\n",
      "0it [00:00, ?it/s]\u001b[A\n",
      "500it [00:00, 128501.96it/s]\u001b[A\n",
      "0it [00:00, ?it/s]\u001b[A\n",
      "500it [00:00, 219574.08it/s]\u001b[A\n",
      "0it [00:00, ?it/s]\u001b[A\n",
      "500it [00:00, 122848.81it/s]\u001b[A\n",
      "0it [00:00, ?it/s]\u001b[A\n",
      "500it [00:00, 81338.56it/s]\u001b[A\n",
      "0it [00:00, ?it/s]\u001b[A\n",
      "500it [00:00, 125120.94it/s]\u001b[A"
     ]
    },
    {
     "name": "stdout",
     "output_type": "stream",
     "text": [
      "137 n04398044\n",
      "138 n02666196\n",
      "139 n03444034\n",
      "140 n04487081\n",
      "141 n02486410\n",
      "142 n02808440\n",
      "143 n04149813\n",
      "144 n12267677\n",
      "145 n03662601\n",
      "146 n02233338\n"
     ]
    },
    {
     "name": "stderr",
     "output_type": "stream",
     "text": [
      "147it [00:03, 46.04it/s]\n",
      "0it [00:00, ?it/s]\u001b[A\n",
      "500it [00:00, 85381.97it/s]\u001b[A\n",
      "0it [00:00, ?it/s]\u001b[A\n",
      "500it [00:00, 168784.87it/s]\u001b[A\n",
      "0it [00:00, ?it/s]\u001b[A\n",
      "500it [00:00, 74361.82it/s]\u001b[A\n",
      "0it [00:00, ?it/s]\u001b[A\n",
      "500it [00:00, 79606.44it/s]\u001b[A\n",
      "0it [00:00, ?it/s]\u001b[A\n",
      "500it [00:00, 97828.61it/s]\u001b[A\n",
      "0it [00:00, ?it/s]\u001b[A\n",
      "153it [00:03, 46.33it/s]/s]\u001b[A\n",
      "0it [00:00, ?it/s]\u001b[A\n",
      "500it [00:00, 92536.38it/s]\u001b[A\n",
      "0it [00:00, ?it/s]\u001b[A\n",
      "500it [00:00, 64209.67it/s]\u001b[A\n",
      "0it [00:00, ?it/s]\u001b[A\n",
      "500it [00:00, 69146.76it/s]\u001b[A\n",
      "0it [00:00, ?it/s]\u001b[A\n",
      "500it [00:00, 78778.11it/s]\u001b[A\n",
      "0it [00:00, ?it/s]\u001b[A\n",
      "500it [00:00, 88603.32it/s]\u001b[A\n",
      "0it [00:00, ?it/s]\u001b[A\n"
     ]
    },
    {
     "name": "stdout",
     "output_type": "stream",
     "text": [
      "147 n07711569\n",
      "148 n02791270\n",
      "149 n04465501\n",
      "150 n03599486\n",
      "151 n07720875\n",
      "152 n03447447\n",
      "153 n03804744\n",
      "154 n04311004\n",
      "155 n07695742\n",
      "156 n07583066\n",
      "157 n07715103\n",
      "158 n04328186\n"
     ]
    },
    {
     "name": "stderr",
     "output_type": "stream",
     "text": [
      "159it [00:03, 46.68it/s]/s]\u001b[A\n",
      "0it [00:00, ?it/s]\u001b[A\n",
      "500it [00:00, 199197.57it/s]\u001b[A\n",
      "0it [00:00, ?it/s]\u001b[A\n",
      "500it [00:00, 101194.36it/s]\u001b[A\n",
      "0it [00:00, ?it/s]\u001b[A\n",
      "500it [00:00, 155034.52it/s]\u001b[A\n",
      "0it [00:00, ?it/s]\u001b[A\n",
      "500it [00:00, 66667.26it/s]\u001b[A\n",
      "0it [00:00, ?it/s]\u001b[A\n",
      "500it [00:00, 96754.42it/s]\u001b[A\n",
      "0it [00:00, ?it/s]\u001b[A\n",
      "165it [00:03, 46.72it/s]/s]\u001b[A\n",
      "0it [00:00, ?it/s]\u001b[A\n",
      "500it [00:00, 68240.01it/s]\u001b[A\n",
      "0it [00:00, ?it/s]\u001b[A\n",
      "500it [00:00, 111160.39it/s]\u001b[A\n",
      "0it [00:00, ?it/s]\u001b[A\n",
      "500it [00:00, 203015.68it/s]\u001b[A\n",
      "0it [00:00, ?it/s]\u001b[A\n",
      "500it [00:00, 106654.73it/s]"
     ]
    },
    {
     "name": "stdout",
     "output_type": "stream",
     "text": [
      "159 n01917289\n",
      "160 n02106662\n",
      "161 n02927161\n",
      "162 n02395406\n",
      "163 n02231487\n",
      "164 n02123394\n",
      "165 n03976657\n",
      "166 n02423022\n",
      "167 n03770439\n",
      "168 n04067472\n"
     ]
    },
    {
     "name": "stderr",
     "output_type": "stream",
     "text": [
      "\u001b[A\n",
      "0it [00:00, ?it/s]\u001b[A\n",
      "500it [00:00, 97464.89it/s]\u001b[A\n",
      "0it [00:00, ?it/s]\u001b[A\n",
      "171it [00:03, 46.86it/s]t/s]\u001b[A\n",
      "0it [00:00, ?it/s]\u001b[A\n",
      "500it [00:00, 87170.67it/s]\u001b[A\n",
      "0it [00:00, ?it/s]\u001b[A\n",
      "500it [00:00, 204261.42it/s]\u001b[A\n",
      "0it [00:00, ?it/s]\u001b[A\n",
      "500it [00:00, 172946.73it/s]\u001b[A\n",
      "0it [00:00, ?it/s]\u001b[A\n",
      "500it [00:00, 219896.40it/s]\u001b[A\n",
      "0it [00:00, ?it/s]\u001b[A\n",
      "500it [00:00, 155137.74it/s]\u001b[A\n",
      "0it [00:00, ?it/s]\u001b[A\n",
      "177it [00:03, 47.18it/s]t/s]\u001b[A\n",
      "0it [00:00, ?it/s]\u001b[A\n",
      "500it [00:00, 124882.51it/s]\u001b[A\n",
      "0it [00:00, ?it/s]\u001b[A\n",
      "500it [00:00, 66208.43it/s]\u001b[A\n",
      "0it [00:00, ?it/s]\u001b[A\n",
      "500it [00:00, 156457.18it/s]\u001b[A"
     ]
    },
    {
     "name": "stdout",
     "output_type": "stream",
     "text": [
      "169 n02206856\n",
      "170 n04285008\n",
      "171 n03617480\n",
      "172 n03733131\n",
      "173 n02415577\n",
      "174 n04146614\n",
      "175 n03388043\n",
      "176 n01945685\n",
      "177 n02892201\n",
      "178 n03160309\n",
      "179 n02281406\n",
      "180 n02999410\n"
     ]
    },
    {
     "name": "stderr",
     "output_type": "stream",
     "text": [
      "\n",
      "0it [00:00, ?it/s]\u001b[A\n",
      "500it [00:00, 144591.29it/s]\u001b[A\n",
      "0it [00:00, ?it/s]\u001b[A\n",
      "500it [00:00, 143847.45it/s]\u001b[A\n",
      "0it [00:00, ?it/s]\u001b[A\n",
      "183it [00:03, 47.36it/s]/s]\u001b[A\n",
      "0it [00:00, ?it/s]\u001b[A\n",
      "500it [00:00, 67395.70it/s]\u001b[A\n",
      "0it [00:00, ?it/s]\u001b[A\n",
      "500it [00:00, 173734.74it/s]\u001b[A\n",
      "0it [00:00, ?it/s]\u001b[A\n",
      "500it [00:00, 57157.12it/s]\u001b[A\n",
      "0it [00:00, ?it/s]\u001b[A\n",
      "500it [00:00, 87894.05it/s]\u001b[A\n",
      "0it [00:00, ?it/s]\u001b[A\n",
      "500it [00:00, 100524.97it/s]\u001b[A\n",
      "0it [00:00, ?it/s]\u001b[A\n",
      "189it [00:04, 47.12it/s]/s]\u001b[A\n",
      "0it [00:00, ?it/s]\u001b[A"
     ]
    },
    {
     "name": "stdout",
     "output_type": "stream",
     "text": [
      "181 n02504458\n",
      "182 n04596742\n",
      "183 n02132136\n",
      "184 n03763968\n",
      "185 n03796401\n",
      "186 n07875152\n",
      "187 n01983481\n",
      "188 n07749582\n",
      "189 n01774384\n"
     ]
    },
    {
     "name": "stderr",
     "output_type": "stream",
     "text": [
      "\n",
      "500it [00:00, 55653.95it/s]\u001b[A\n",
      "0it [00:00, ?it/s]\u001b[A\n",
      "500it [00:00, 112039.32it/s]\u001b[A\n",
      "0it [00:00, ?it/s]\u001b[A\n",
      "500it [00:00, 103598.87it/s]\u001b[A\n",
      "0it [00:00, ?it/s]\u001b[A\n",
      "500it [00:00, 129031.69it/s]\u001b[A\n",
      "0it [00:00, ?it/s]\u001b[A\n",
      "194it [00:04, 47.14it/s]t/s]\u001b[A\n",
      "0it [00:00, ?it/s]\u001b[A\n",
      "500it [00:00, 75255.75it/s]\u001b[A\n",
      "0it [00:00, ?it/s]\u001b[A\n",
      "500it [00:00, 120187.52it/s]\u001b[A\n",
      "0it [00:00, ?it/s]\u001b[A\n",
      "500it [00:00, 173304.02it/s]\u001b[A\n",
      "0it [00:00, ?it/s]\u001b[A\n",
      "500it [00:00, 112309.32it/s]\u001b[A\n",
      "0it [00:00, ?it/s]\u001b[A\n",
      "199it [00:04, 47.13it/s]t/s]\u001b[A\n",
      "0it [00:00, ?it/s]\u001b[A\n",
      "500it [00:00, 94466.31it/s]\u001b[A"
     ]
    },
    {
     "name": "stdout",
     "output_type": "stream",
     "text": [
      "190 n03201208\n",
      "191 n01984695\n",
      "192 n02963159\n",
      "193 n02123045\n",
      "194 n09332890\n",
      "195 n03992509\n",
      "196 n02988304\n",
      "197 n04417672\n",
      "198 n02730930\n",
      "199 n03937543\n",
      "200 n03837869\n"
     ]
    },
    {
     "name": "stderr",
     "output_type": "stream",
     "text": [
      "\n",
      "0it [00:00, ?it/s]\u001b[A\n",
      "201it [00:04, 47.16it/s]t/s]\u001b[A\n"
     ]
    }
   ],
   "source": [
    "trainingDataset = TinyImageNet(_trainDir)"
   ]
  },
  {
   "cell_type": "code",
   "execution_count": 12,
   "metadata": {},
   "outputs": [
    {
     "name": "stdout",
     "output_type": "stream",
     "text": [
      "100000\n"
     ]
    }
   ],
   "source": [
    "print (trainingDataset.__len__())"
   ]
  },
  {
   "cell_type": "code",
   "execution_count": 16,
   "metadata": {},
   "outputs": [
    {
     "name": "stdout",
     "output_type": "stream",
     "text": [
      "Label : tensor([ 79.])\n",
      "Class : n02481823\n",
      "torch.Size([64, 64, 3])\n"
     ]
    },
    {
     "data": {
      "image/png": "[encoded data removed]",
      "text/plain": [
       "<Figure size 432x288 with 1 Axes>"
      ]
     },
     "metadata": {},
     "output_type": "display_data"
    }
   ],
   "source": [
    "from random import randint\n",
    "randomSample = randint(0,trainingDataset.__len__())\n",
    "img, label = trainingDataset.__getitem__(randomSample)\n",
    "print (\"Label : \" + str(label[0]))\n",
    "print (\"Class : \" + str(trainingDataset.classes[int(label)]))\n",
    "print (img.shape)\n",
    "plt.imshow(img)\n",
    "plt.show()"
   ]
  },
  {
   "cell_type": "code",
   "execution_count": null,
   "metadata": {},
   "outputs": [],
   "source": []
  }
 ],
 "metadata": {
  "kernelspec": {
   "display_name": "Python 3",
   "language": "python",
   "name": "python3"
  },
  "language_info": {
   "codemirror_mode": {
    "name": "ipython",
    "version": 3
   },
   "file_extension": ".py",
   "mimetype": "text/x-python",
   "name": "python",
   "nbconvert_exporter": "python",
   "pygments_lexer": "ipython3",
   "version": "3.6.5"
  }
 },
 "nbformat": 4,
 "nbformat_minor": 2
}
